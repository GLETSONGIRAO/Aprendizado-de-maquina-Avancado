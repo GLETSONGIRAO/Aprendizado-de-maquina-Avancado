{
 "cells": [
  {
   "cell_type": "markdown",
   "metadata": {},
   "source": [
    "<img src=\"Logistic.png\">"
   ]
  },
  {
   "cell_type": "code",
   "execution_count": 1,
   "metadata": {},
   "outputs": [],
   "source": [
    "import numpy as np\n",
    "import matplotlib.pyplot as plt\n",
    "import pandas as pd\n",
    "from scipy import stats"
   ]
  },
  {
   "cell_type": "code",
   "execution_count": 2,
   "metadata": {},
   "outputs": [],
   "source": [
    "df = pd.read_csv(\"logistic_regression_data.csv\", header= 0, names=[\"x1\",\"x2\",\"t\"])"
   ]
  },
  {
   "cell_type": "code",
   "execution_count": 3,
   "metadata": {},
   "outputs": [],
   "source": [
    "df.insert(0,'b',1)"
   ]
  },
  {
   "cell_type": "code",
   "execution_count": 4,
   "metadata": {
    "scrolled": true
   },
   "outputs": [
    {
     "data": {
      "text/html": [
       "<div>\n",
       "<style scoped>\n",
       "    .dataframe tbody tr th:only-of-type {\n",
       "        vertical-align: middle;\n",
       "    }\n",
       "\n",
       "    .dataframe tbody tr th {\n",
       "        vertical-align: top;\n",
       "    }\n",
       "\n",
       "    .dataframe thead th {\n",
       "        text-align: right;\n",
       "    }\n",
       "</style>\n",
       "<table border=\"1\" class=\"dataframe\">\n",
       "  <thead>\n",
       "    <tr style=\"text-align: right;\">\n",
       "      <th></th>\n",
       "      <th>b</th>\n",
       "      <th>x1</th>\n",
       "      <th>x2</th>\n",
       "      <th>t</th>\n",
       "    </tr>\n",
       "  </thead>\n",
       "  <tbody>\n",
       "    <tr>\n",
       "      <th>0</th>\n",
       "      <td>1</td>\n",
       "      <td>2.032725</td>\n",
       "      <td>-1.108874</td>\n",
       "      <td>0.0</td>\n",
       "    </tr>\n",
       "    <tr>\n",
       "      <th>1</th>\n",
       "      <td>1</td>\n",
       "      <td>0.874624</td>\n",
       "      <td>-0.746390</td>\n",
       "      <td>0.0</td>\n",
       "    </tr>\n",
       "    <tr>\n",
       "      <th>2</th>\n",
       "      <td>1</td>\n",
       "      <td>-1.695795</td>\n",
       "      <td>-0.546513</td>\n",
       "      <td>1.0</td>\n",
       "    </tr>\n",
       "    <tr>\n",
       "      <th>3</th>\n",
       "      <td>1</td>\n",
       "      <td>1.592453</td>\n",
       "      <td>-0.772068</td>\n",
       "      <td>0.0</td>\n",
       "    </tr>\n",
       "    <tr>\n",
       "      <th>4</th>\n",
       "      <td>1</td>\n",
       "      <td>-0.678388</td>\n",
       "      <td>0.161669</td>\n",
       "      <td>1.0</td>\n",
       "    </tr>\n",
       "    <tr>\n",
       "      <th>...</th>\n",
       "      <td>...</td>\n",
       "      <td>...</td>\n",
       "      <td>...</td>\n",
       "      <td>...</td>\n",
       "    </tr>\n",
       "    <tr>\n",
       "      <th>94</th>\n",
       "      <td>1</td>\n",
       "      <td>-0.704386</td>\n",
       "      <td>-0.400092</td>\n",
       "      <td>1.0</td>\n",
       "    </tr>\n",
       "    <tr>\n",
       "      <th>95</th>\n",
       "      <td>1</td>\n",
       "      <td>0.640450</td>\n",
       "      <td>-1.544643</td>\n",
       "      <td>0.0</td>\n",
       "    </tr>\n",
       "    <tr>\n",
       "      <th>96</th>\n",
       "      <td>1</td>\n",
       "      <td>-0.826592</td>\n",
       "      <td>0.397815</td>\n",
       "      <td>1.0</td>\n",
       "    </tr>\n",
       "    <tr>\n",
       "      <th>97</th>\n",
       "      <td>1</td>\n",
       "      <td>-0.191372</td>\n",
       "      <td>0.388614</td>\n",
       "      <td>1.0</td>\n",
       "    </tr>\n",
       "    <tr>\n",
       "      <th>98</th>\n",
       "      <td>1</td>\n",
       "      <td>0.780106</td>\n",
       "      <td>0.212348</td>\n",
       "      <td>0.0</td>\n",
       "    </tr>\n",
       "  </tbody>\n",
       "</table>\n",
       "<p>99 rows × 4 columns</p>\n",
       "</div>"
      ],
      "text/plain": [
       "    b        x1        x2    t\n",
       "0   1  2.032725 -1.108874  0.0\n",
       "1   1  0.874624 -0.746390  0.0\n",
       "2   1 -1.695795 -0.546513  1.0\n",
       "3   1  1.592453 -0.772068  0.0\n",
       "4   1 -0.678388  0.161669  1.0\n",
       ".. ..       ...       ...  ...\n",
       "94  1 -0.704386 -0.400092  1.0\n",
       "95  1  0.640450 -1.544643  0.0\n",
       "96  1 -0.826592  0.397815  1.0\n",
       "97  1 -0.191372  0.388614  1.0\n",
       "98  1  0.780106  0.212348  0.0\n",
       "\n",
       "[99 rows x 4 columns]"
      ]
     },
     "execution_count": 4,
     "metadata": {},
     "output_type": "execute_result"
    }
   ],
   "source": [
    "df"
   ]
  },
  {
   "cell_type": "code",
   "execution_count": 5,
   "metadata": {},
   "outputs": [],
   "source": [
    "def sigmoid(z):\n",
    "    return 1/(1 + np.exp(-z))"
   ]
  },
  {
   "cell_type": "code",
   "execution_count": 6,
   "metadata": {},
   "outputs": [],
   "source": [
    "#def sigmoid_(z):\n",
    "        #return np.tanh(z * 0.5) * 0.5 + 0.5"
   ]
  },
  {
   "cell_type": "code",
   "execution_count": 7,
   "metadata": {},
   "outputs": [],
   "source": [
    "#Inicializando Parâmetros\n",
    "alfa = 1\n",
    "\n",
    "\n",
    "X = df[['b','x1','x2']].to_numpy()\n",
    "t = df[['t']].to_numpy().ravel()\n",
    "\n",
    "#w = np.zeros((X.shape[1], 1))\n",
    "w = np.zeros(np.size(X, 1))\n",
    "\n",
    "identidade = np.eye(X.shape[1])\n",
    "#identidade = np.eye(np.size(X, 1))\n",
    "\n",
    "w_med = np.copy(w)\n",
    "precisao = alfa * identidade\n"
   ]
  },
  {
   "cell_type": "code",
   "execution_count": 8,
   "metadata": {
    "scrolled": true
   },
   "outputs": [],
   "source": [
    "#Atualizando Parâmetros\n",
    "for i in range(100):\n",
    "    w_anterior = np.copy(w)\n",
    "    y = sigmoid(X @ w).ravel()\n",
    "    gradiente = X.T @ (y - t) + precisao @ (w - w_med)\n",
    "    hessiana = (X.T * y * (1-y)) @ X + precisao\n",
    "    try:\n",
    "        w -= np.linalg.solve(hessiana, gradiente)\n",
    "    except np.linalg.LinAlgError:\n",
    "        break\n",
    "    if np.allclose(w, w_anterior):\n",
    "        break\n",
    "w_med = w\n",
    "precisao = hessiana\n",
    "\n",
    "    "
   ]
  },
  {
   "cell_type": "code",
   "execution_count": 9,
   "metadata": {},
   "outputs": [],
   "source": [
    "#Predição\n",
    "media_a = X @ w_med\n",
    "variancia_a = np.sum(np.linalg.solve(precisao, X.T).T * X, axis=1)\n",
    "probabilidades = sigmoid(media_a / np.sqrt(1 + np.pi * variancia_a / 8 ))"
   ]
  },
  {
   "cell_type": "code",
   "execution_count": 10,
   "metadata": {
    "scrolled": true
   },
   "outputs": [
    {
     "data": {
      "image/png": "[encoded data removed]",
      "text/plain": [
       "<Figure size 576x576 with 2 Axes>"
      ]
     },
     "metadata": {
      "needs_background": "light"
     },
     "output_type": "display_data"
    }
   ],
   "source": [
    "x1_test, x2_test = np.meshgrid(np.linspace(-5, 5, 100), np.linspace(-5, 5, 100))\n",
    "x_test = np.array([x1_test, x2_test]).reshape(2, -1).T\n",
    "X_test = np.c_[ np.ones(10000), x_test ]\n",
    "w_med = w\n",
    "precisao = hessiana\n",
    "media_a = X_test @ w_med\n",
    "variancia_a = np.sum(np.linalg.solve(precisao, X_test.T).T * X_test, axis=1)\n",
    "y_test = sigmoid(media_a / np.sqrt(1 + np.pi * variancia_a / 8 ))\n",
    "\n",
    "plt.figure(figsize=(8,8))\n",
    "plt.scatter(X[:, 1], X[:, 2], c=t)\n",
    "plt.contourf(x1_test, x2_test, y_test.reshape(100, 100), np.linspace(0, 1, 5), alpha=0.2)\n",
    "plt.colorbar()\n",
    "plt.xlim(-5, 5)\n",
    "plt.ylim(-5, 5)\n",
    "\n",
    "plt.xlabel('x1')\n",
    "plt.ylabel('x2')\n",
    "\n",
    "plt.title('Representação da distribuição preditiva dos parâmetros')\n",
    "\n",
    "plt.savefig('Logistic')\n",
    "\n",
    "plt.show()\n"
   ]
  },
  {
   "cell_type": "code",
   "execution_count": 18,
   "metadata": {},
   "outputs": [
    {
     "data": {
      "text/plain": [
       "array([0.  , 0.25, 0.5 , 0.75, 1.  ])"
      ]
     },
     "execution_count": 18,
     "metadata": {},
     "output_type": "execute_result"
    }
   ],
   "source": [
    "a = np.linspace(0, 1, 5)\n",
    "a"
   ]
  },
  {
   "cell_type": "code",
   "execution_count": 16,
   "metadata": {},
   "outputs": [
    {
     "data": {
      "text/plain": [
       "(10000,)"
      ]
     },
     "execution_count": 16,
     "metadata": {},
     "output_type": "execute_result"
    }
   ],
   "source": [
    "y_test.shape"
   ]
  },
  {
   "cell_type": "code",
   "execution_count": 14,
   "metadata": {},
   "outputs": [
    {
     "data": {
      "text/plain": [
       "(100, 100)"
      ]
     },
     "execution_count": 14,
     "metadata": {},
     "output_type": "execute_result"
    }
   ],
   "source": [
    "x1_test.shape"
   ]
  },
  {
   "cell_type": "code",
   "execution_count": 13,
   "metadata": {},
   "outputs": [
    {
     "data": {
      "text/plain": [
       "(100, 100)"
      ]
     },
     "execution_count": 13,
     "metadata": {},
     "output_type": "execute_result"
    }
   ],
   "source": [
    "x2_test.shape"
   ]
  }
 ],
 "metadata": {
  "kernelspec": {
   "display_name": "Python 3",
   "language": "python",
   "name": "python3"
  },
  "language_info": {
   "codemirror_mode": {
    "name": "ipython",
    "version": 3
   },
   "file_extension": ".py",
   "mimetype": "text/x-python",
   "name": "python",
   "nbconvert_exporter": "python",
   "pygments_lexer": "ipython3",
   "version": "3.8.3"
  }
 },
 "nbformat": 4,
 "nbformat_minor": 4
}
