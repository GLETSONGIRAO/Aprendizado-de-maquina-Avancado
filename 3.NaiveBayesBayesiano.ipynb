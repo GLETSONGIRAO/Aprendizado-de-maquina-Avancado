{
 "cells": [
  {
   "cell_type": "markdown",
   "metadata": {},
   "source": [
    "<img src=\"Trabalho3_NaiveBayesBayesiano_Gletson_416683.png\">"
   ]
  },
  {
   "cell_type": "code",
   "execution_count": 1,
   "metadata": {},
   "outputs": [],
   "source": [
    "import numpy as np\n",
    "import matplotlib.pyplot as plt\n",
    "import pandas as pd\n",
    "import seaborn as sns"
   ]
  },
  {
   "cell_type": "code",
   "execution_count": 2,
   "metadata": {},
   "outputs": [],
   "source": [
    "df = pd.read_csv(\"votesDataset.csv\", header= 0,names=[\"party\",\"vote1\",\"vote2\",\"vote3\",\"vote4\",\"vote5\",\"vote6\",\"vote7\",\"vote8\",\"vote9\",\"vote10\",\"vote11\",\"vote12\",\"vote13\",\"vote14\",\"vote15\",\"vote16\"])"
   ]
  },
  {
   "cell_type": "code",
   "execution_count": 3,
   "metadata": {},
   "outputs": [],
   "source": [
    "X = df.iloc[:,1:]\n",
    "t = df.iloc[:,0]"
   ]
  },
  {
   "cell_type": "code",
   "execution_count": 4,
   "metadata": {
    "scrolled": false
   },
   "outputs": [
    {
     "data": {
      "text/plain": [
       "democrat      267\n",
       "republican    168\n",
       "Name: party, dtype: int64"
      ]
     },
     "metadata": {},
     "output_type": "display_data"
    }
   ],
   "source": [
    "display(t.value_counts())\n",
    "c = 2\n",
    "N = len(t)\n",
    "Nc = np.zeros(c)\n",
    "for i in range (c):\n",
    "    Nc[i] = list(t.value_counts())[i] \n"
   ]
  },
  {
   "cell_type": "code",
   "execution_count": 5,
   "metadata": {},
   "outputs": [],
   "source": [
    "Ndc = np.zeros((c,X.shape[1]))\n",
    "\n",
    "d = 0\n",
    "for col in X.columns:\n",
    "    Ndc[0][d] = len(df[col][(df[col]==1) & (df['party']=='democrat')])\n",
    "    Ndc[1][d] = len(df[col][(df[col]==1) & (df['party']=='republican')])\n",
    "    d = d + 1\n"
   ]
  },
  {
   "cell_type": "code",
   "execution_count": 6,
   "metadata": {},
   "outputs": [
    {
     "data": {
      "text/plain": [
       "array([[156., 120., 238.,  14.,  67., 132., 208., 222., 188., 128., 129.,\n",
       "         36.,  88., 208., 160., 255.],\n",
       "       [ 31.,  75.,  26., 163., 160., 151.,  45.,  35.,  19.,  95.,  21.,\n",
       "        135., 146.,  45.,  14., 118.]])"
      ]
     },
     "execution_count": 6,
     "metadata": {},
     "output_type": "execute_result"
    }
   ],
   "source": [
    "Ndc"
   ]
  },
  {
   "cell_type": "code",
   "execution_count": 7,
   "metadata": {},
   "outputs": [],
   "source": [
    "a = 1\n",
    "b = 1\n",
    "alfas = np.array([2,2])\n",
    "pi = np.zeros(c)\n",
    "\n",
    "\n",
    "teta_dc = np.zeros((c,X.shape[1]))\n",
    "\n",
    "for i in range (c):\n",
    "    teta_dc[i] = (Ndc[i] + b)/(Nc[i] + a + b)\n",
    "    pi[i] = (Nc[i] + alfas[i])/(N + np.sum(alfas))\n",
    "\n",
    "\n"
   ]
  },
  {
   "cell_type": "code",
   "execution_count": 8,
   "metadata": {
    "scrolled": true
   },
   "outputs": [
    {
     "data": {
      "text/plain": [
       "array([[0.58364312, 0.44981413, 0.88847584, 0.05576208, 0.2527881 ,\n",
       "        0.49442379, 0.77695167, 0.82899628, 0.70260223, 0.4795539 ,\n",
       "        0.48327138, 0.13754647, 0.33085502, 0.77695167, 0.59851301,\n",
       "        0.95167286],\n",
       "       [0.18823529, 0.44705882, 0.15882353, 0.96470588, 0.94705882,\n",
       "        0.89411765, 0.27058824, 0.21176471, 0.11764706, 0.56470588,\n",
       "        0.12941176, 0.8       , 0.86470588, 0.27058824, 0.08823529,\n",
       "        0.7       ]])"
      ]
     },
     "execution_count": 8,
     "metadata": {},
     "output_type": "execute_result"
    }
   ],
   "source": [
    "teta_dc"
   ]
  },
  {
   "cell_type": "code",
   "execution_count": 9,
   "metadata": {},
   "outputs": [],
   "source": [
    "y_pred = np.zeros([c,N])\n",
    "y_pred_l = list()\n",
    "\n",
    "for k in range(c):\n",
    "    \n",
    "    log = np.log(pi[k])\n",
    "    \n",
    "    for i in range(N):\n",
    "        sum = 0\n",
    "        \n",
    "        for j in range(X.shape[1]):\n",
    "            \n",
    "            if df.iloc[i,j] == 1:\n",
    "                sum = sum + np.log(teta_dc[k,j])\n",
    "            else:\n",
    "                sum = sum + np.log(1 - teta_dc[k,j])\n",
    "        \n",
    "        y_pred[k,i] = sum + log\n",
    "        \n",
    "            \n",
    "    "
   ]
  },
  {
   "cell_type": "code",
   "execution_count": 10,
   "metadata": {},
   "outputs": [],
   "source": [
    "y_argmax = (y_pred[0] > y_pred[1])"
   ]
  },
  {
   "cell_type": "code",
   "execution_count": 11,
   "metadata": {},
   "outputs": [],
   "source": [
    "df['y_pred'] = y_argmax"
   ]
  },
  {
   "cell_type": "code",
   "execution_count": 12,
   "metadata": {},
   "outputs": [],
   "source": [
    "df['y_pred'] = df['y_pred'].replace([True,False],['democrat','republican'])"
   ]
  },
  {
   "cell_type": "code",
   "execution_count": 13,
   "metadata": {},
   "outputs": [],
   "source": [
    "df['acertei?'] = df['y_pred'] == df['party']"
   ]
  },
  {
   "cell_type": "code",
   "execution_count": 14,
   "metadata": {},
   "outputs": [],
   "source": [
    "TP = len(df[(df['y_pred']=='democrat') & (df['party']=='democrat')])"
   ]
  },
  {
   "cell_type": "code",
   "execution_count": 15,
   "metadata": {},
   "outputs": [],
   "source": [
    "TN = len(df[(df['y_pred']=='republican') & (df['party']=='republican')])"
   ]
  },
  {
   "cell_type": "code",
   "execution_count": 16,
   "metadata": {},
   "outputs": [],
   "source": [
    "FP = len(df[(df['y_pred']=='democrat') & (df['party']=='republican')])"
   ]
  },
  {
   "cell_type": "code",
   "execution_count": 17,
   "metadata": {},
   "outputs": [],
   "source": [
    "FN = len(df[(df['y_pred']=='republican') & (df['party']=='democrat')])"
   ]
  },
  {
   "cell_type": "code",
   "execution_count": 18,
   "metadata": {},
   "outputs": [],
   "source": [
    "Matriz_de_Confusao = pd.DataFrame([[TP,FP],[FN,TN]])\n",
    "label = pd.DataFrame([['TP = '+ str(TP),'FP = '+str(FP)],['FN = '+ str(FN),'TN = ' +str(TN)]])"
   ]
  },
  {
   "cell_type": "code",
   "execution_count": 20,
   "metadata": {},
   "outputs": [
    {
     "data": {
      "image/png": "[encoded data removed]",
      "text/plain": [
       "<Figure size 720x576 with 2 Axes>"
      ]
     },
     "metadata": {
      "needs_background": "light"
     },
     "output_type": "display_data"
    }
   ],
   "source": [
    "plt.figure(figsize=(10,8))\n",
    "\n",
    "sns.heatmap(Matriz_de_Confusao, annot=(label) ,fmt='', cmap = 'Blues')\n",
    "plt.title(\"Matriz de Confusão\")\n",
    "plt.xlabel('Real (Positivo = Democrat)')\n",
    "plt.ylabel('Predição')\n",
    "plt.savefig('Matriz_de_Confusao.png')\n",
    "plt.show()\n"
   ]
  },
  {
   "cell_type": "code",
   "execution_count": null,
   "metadata": {},
   "outputs": [],
   "source": []
  }
 ],
 "metadata": {
  "kernelspec": {
   "display_name": "Python 3",
   "language": "python",
   "name": "python3"
  },
  "language_info": {
   "codemirror_mode": {
    "name": "ipython",
    "version": 3
   },
   "file_extension": ".py",
   "mimetype": "text/x-python",
   "name": "python",
   "nbconvert_exporter": "python",
   "pygments_lexer": "ipython3",
   "version": "3.8.3"
  }
 },
 "nbformat": 4,
 "nbformat_minor": 4
}
